{
 "cells": [
  {
   "cell_type": "code",
   "execution_count": 12,
   "metadata": {},
   "outputs": [
    {
     "data": {
      "text/plain": [
       "4.25"
      ]
     },
     "execution_count": 12,
     "metadata": {},
     "output_type": "execute_result"
    }
   ],
   "source": [
    "#82\n",
    "\n",
    "#기본요금 4달러, 140미터당 0.25달러 추가요금\n",
    "def calCost(meter):\n",
    "    return 4+(meter//140 if meter//140>0 else 0)*0.25;\n",
    "\n",
    "calCost(180)"
   ]
  },
  {
   "cell_type": "code",
   "execution_count": 4,
   "metadata": {},
   "outputs": [
    {
     "name": "stdout",
     "output_type": "stream",
     "text": [
      "[50, 99, 110]\n"
     ]
    },
    {
     "data": {
      "text/plain": [
       "99"
      ]
     },
     "execution_count": 4,
     "metadata": {},
     "output_type": "execute_result"
    }
   ],
   "source": [
    "#84\n",
    "\n",
    "def findMed(first, second, third):\n",
    "    tempList = [first, second, third]\n",
    "    tempList.sort()\n",
    "    return tempList[1];\n",
    "\n",
    "findMed(99,50,110)"
   ]
  },
  {
   "cell_type": "code",
   "execution_count": 17,
   "metadata": {},
   "outputs": [
    {
     "data": {
      "text/plain": [
       "'tenth'"
      ]
     },
     "execution_count": 17,
     "metadata": {},
     "output_type": "execute_result"
    }
   ],
   "source": [
    "#85\n",
    "\n",
    "def toOrdi(value):\n",
    "    if value<1 or value>12:\n",
    "        return str();\n",
    "    \n",
    "    list = [\"first\",\"second\",\"third\",\"fourth\",\"fifth\",\"sixth\",\n",
    "           \"seventh\",\"eighth\",\"ninth\",\"tenth\",\"eleventh\",\"twelfth\"]\n",
    "    return list[value-1];\n",
    "\n",
    "toOrdi(10)"
   ]
  },
  {
   "cell_type": "code",
   "execution_count": 6,
   "metadata": {},
   "outputs": [
    {
     "data": {
      "text/plain": [
       "False"
      ]
     },
     "execution_count": 6,
     "metadata": {},
     "output_type": "execute_result"
    }
   ],
   "source": [
    "# 88\n",
    "\n",
    "def canForm(v1, v2, v3):\n",
    "    tempList = [v1,v2,v3]\n",
    "    tempList.sort()\n",
    "    if tempList[2] >= tempList[1]+tempList[0]:\n",
    "        return False;\n",
    "    else:\n",
    "        return True;\n",
    "\n",
    "canForm(2,6,2)    "
   ]
  },
  {
   "cell_type": "code",
   "execution_count": 13,
   "metadata": {},
   "outputs": [
    {
     "name": "stdout",
     "output_type": "stream",
     "text": [
      "13\n"
     ]
    },
    {
     "data": {
      "text/plain": [
       "True"
      ]
     },
     "execution_count": 13,
     "metadata": {},
     "output_type": "execute_result"
    }
   ],
   "source": [
    "# 92\n",
    "\n",
    "def isPrime(value):\n",
    "    for j in range(2,value):\n",
    "        if value%j == 0:\n",
    "            return False;\n",
    "    return True;\n",
    "\n",
    "userInput = int(input())\n",
    "isPrime(userInput)"
   ]
  },
  {
   "cell_type": "code",
   "execution_count": 32,
   "metadata": {},
   "outputs": [
    {
     "name": "stdout",
     "output_type": "stream",
     "text": [
      "On the fifth day of Christmas\n",
      "my true love sent to me:\n",
      "Five golden rings\n",
      "Four calling birds\n",
      "Three French Hens\n",
      "Two turtle doves\n",
      "And a Partridge in a pear tree\n"
     ]
    }
   ],
   "source": [
    "# 86\n",
    "\n",
    "def song(verse):\n",
    "    ordiNum = [\"first\",\"second\",\"third\",\"fourth\",\"fifth\",\"sixth\",\n",
    "           \"seventh\",\"eighth\",\"ninth\",\"tenth\",\"eleventh\",\"twelfth\"]\n",
    "    song = [\"Two turtle doves\",\n",
    "           \"Three French Hens\",\n",
    "           \"Four calling birds\",\n",
    "           \"Five golden rings\",\n",
    "           \"Six geese a laying\",\n",
    "           \"Seven swans a swimming\",\n",
    "           \"Eight maids a milking\",\n",
    "           \"Nine ladies dancing\",\n",
    "           \"Ten lords a leaping\"]\n",
    "    result = list()\n",
    "    temp = \"On the \"+ordiNum[verse-1]+\" day of Christmas\\nmy true love sent to me:\"\n",
    "    result.append(temp)\n",
    "    if verse == 1:\n",
    "        temp2 = \"A partridge in a pear tree\"\n",
    "    else:\n",
    "        idx = verse-2\n",
    "        temp2 = str()\n",
    "        while idx >= 0:\n",
    "            temp2 += (song[idx]+'\\n')\n",
    "            idx = idx-1\n",
    "        temp2 += \"And a Partridge in a pear tree\"\n",
    "    result.append(temp2)\n",
    "    \n",
    "    return result;\n",
    "\n",
    "R = song(5)\n",
    "for i in range(0,len(R)):\n",
    "    print(R[i])"
   ]
  },
  {
   "cell_type": "code",
   "execution_count": 18,
   "metadata": {},
   "outputs": [
    {
     "data": {
      "text/plain": [
       "\"What time do I have to be there? What's the address?\""
      ]
     },
     "execution_count": 18,
     "metadata": {},
     "output_type": "execute_result"
    }
   ],
   "source": [
    "# 89\n",
    "\n",
    "def toCapital(sentence):\n",
    "    temp = list(sentence)\n",
    "    result = str()\n",
    "    \n",
    "    if 97<=ord(temp[0])<=122:\n",
    "        temp[0] = chr(ord(temp[0])-32)\n",
    "        \n",
    "    for i in range(len(temp)):\n",
    "        if temp[i] == '.' or temp[i] == '!' or temp[i] == '?':\n",
    "            if 0<=i+2<len(temp):\n",
    "                temp[i+2] = chr(ord(temp[i+2])-32)\n",
    "        \n",
    "        elif temp[i] == ' ':\n",
    "            if temp[i+1] == 'i' and temp[i+2] == ' ':\n",
    "                temp[i+1] = 'I'\n",
    "            elif temp[i+1] == 'h' and temp[i+2] == 'e' and temp[i+3] == ' ':\n",
    "                temp[i+1] == 'H'\n",
    "            elif temp[i+1] == 's' and temp[i+2] == 'h' and temp[i+3] == 'e' and temp[i+4] == ' ':\n",
    "                temp[i+1] == 'S'\n",
    "            elif temp[i+1] == 'w' and temp[i+2] == 'e' and temp[i+3] == ' ':\n",
    "                temp[i+1] == 'W'\n",
    "               \n",
    "        result += temp[i]\n",
    "    return result\n",
    "        \n",
    "toCapital('what time do i have to be there? what\\'s the address?')"
   ]
  },
  {
   "cell_type": "code",
   "execution_count": 8,
   "metadata": {},
   "outputs": [
    {
     "name": "stdout",
     "output_type": "stream",
     "text": [
      "97\n"
     ]
    }
   ],
   "source": [
    "# 90\n"
   ]
  }
 ],
 "metadata": {
  "kernelspec": {
   "display_name": "Python 3",
   "language": "python",
   "name": "python3"
  },
  "language_info": {
   "codemirror_mode": {
    "name": "ipython",
    "version": 3
   },
   "file_extension": ".py",
   "mimetype": "text/x-python",
   "name": "python",
   "nbconvert_exporter": "python",
   "pygments_lexer": "ipython3",
   "version": "3.6.5"
  }
 },
 "nbformat": 4,
 "nbformat_minor": 2
}
