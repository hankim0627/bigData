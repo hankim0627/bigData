{
 "cells": [
  {
   "cell_type": "code",
   "execution_count": 1,
   "metadata": {},
   "outputs": [],
   "source": [
    "#105\n",
    "userList = list()"
   ]
  },
  {
   "cell_type": "code",
   "execution_count": 14,
   "metadata": {},
   "outputs": [
    {
     "name": "stdout",
     "output_type": "stream",
     "text": [
      "1\n",
      "3\n",
      "5\n",
      "7\n",
      "9\n",
      "0\n",
      "---------result--------\n",
      "9\n",
      "7\n",
      "5\n",
      "3\n",
      "1\n"
     ]
    }
   ],
   "source": [
    "#105\n",
    "userList.clear()\n",
    "i = int(input())\n",
    "while True:\n",
    "    if i == 0:\n",
    "        break;\n",
    "    else:\n",
    "        userList.append(i)\n",
    "        i = int(input())\n",
    "\n",
    "userList.reverse()\n",
    "print('---------result--------')\n",
    "for i in userList:\n",
    "    print(i)"
   ]
  },
  {
   "cell_type": "code",
   "execution_count": 31,
   "metadata": {},
   "outputs": [
    {
     "name": "stdout",
     "output_type": "stream",
     "text": [
      "first\n",
      "third\n",
      "first\n",
      "fifth\n",
      "fourth\n",
      "first\n",
      " \n",
      "first\n",
      "third\n",
      "fifth\n",
      "fourth\n"
     ]
    }
   ],
   "source": [
    "#107\n",
    "userList = list()\n",
    "i = input()\n",
    "while True:\n",
    "    if i == '' or i == ' ' :\n",
    "        break;\n",
    "    else:\n",
    "        if userList.__contains__(i):\n",
    "            i = input()\n",
    "            continue;\n",
    "        else:\n",
    "            userList.append(i)\n",
    "            i = input()\n",
    "        \n",
    "for temp in userList:\n",
    "    print(temp)"
   ]
  },
  {
   "cell_type": "code",
   "execution_count": 41,
   "metadata": {},
   "outputs": [
    {
     "name": "stdout",
     "output_type": "stream",
     "text": [
      "-1\n",
      "9\n",
      "0\n",
      "-3\n",
      "10\n",
      "8\n",
      "0\n",
      "\n",
      "-1\n",
      "-3\n",
      "0\n",
      "0\n",
      "9\n",
      "10\n",
      "8\n"
     ]
    }
   ],
   "source": [
    "#108\n",
    "positive = list()\n",
    "zero = list()\n",
    "negative = list()\n",
    "\n",
    "i = input()\n",
    "while True:\n",
    "    if i == '' or i == ' ':\n",
    "        break;\n",
    "    else:\n",
    "        j = int(i)\n",
    "        if j>0:\n",
    "            positive.append(j)\n",
    "        elif j==0:\n",
    "            zero.append(j)\n",
    "        else:\n",
    "            negative.append(j)\n",
    "        \n",
    "        i = input()\n",
    "\n",
    "for temp in negative:\n",
    "    print(temp)\n",
    "for temp in zero:\n",
    "    print(temp)\n",
    "for temp in positive:\n",
    "    print(temp)"
   ]
  },
  {
   "cell_type": "code",
   "execution_count": 47,
   "metadata": {},
   "outputs": [
    {
     "name": "stdout",
     "output_type": "stream",
     "text": [
      "7\n",
      "False\n"
     ]
    }
   ],
   "source": [
    "#110\n",
    "i = int(input())\n",
    "\n",
    "def perfect(value):\n",
    "    j = 1\n",
    "    tempSum = 0\n",
    "    while j <= value/2:\n",
    "        if value%j == 0:\n",
    "            tempSum+=j\n",
    "        j+=1\n",
    "    if value == tempSum:\n",
    "        return True;\n",
    "    else:\n",
    "        return False;\n",
    "\n",
    "print(perfect(i))"
   ]
  },
  {
   "cell_type": "code",
   "execution_count": 2,
   "metadata": {},
   "outputs": [
    {
     "name": "stdout",
     "output_type": "stream",
     "text": [
      "apple, banana, pineapple and lemon\n"
     ]
    }
   ],
   "source": [
    "#113\n",
    "\n",
    "def formatting(inputList):\n",
    "    result = str()\n",
    "    start = 0\n",
    "    leng = len(inputList)\n",
    "    while start < leng:\n",
    "        if start == leng-1:\n",
    "            result += inputList[start]\n",
    "        elif start == leng-2:\n",
    "            result += inputList[start]\n",
    "            result+=' and '\n",
    "        else:\n",
    "            result += (inputList[start] + ', ')\n",
    "        start+=1   \n",
    "    return result;\n",
    "        \n",
    "l = ['apple','banana','pineapple','lemon']\n",
    "print(formatting(l))"
   ]
  },
  {
   "cell_type": "code",
   "execution_count": 89,
   "metadata": {},
   "outputs": [
    {
     "name": "stdout",
     "output_type": "stream",
     "text": [
      "[4, 5, 6, 9, 32, 37]\n"
     ]
    }
   ],
   "source": [
    "#116\n",
    "from random import *\n",
    "lotto = set()\n",
    "\n",
    "while len(lotto) != 6:\n",
    "    temp = randint(1,49)\n",
    "    lotto.add(temp)\n",
    "\n",
    "lotto2 = list(lotto)\n",
    "lotto2.sort()\n",
    "print(lotto2)"
   ]
  },
  {
   "cell_type": "code",
   "execution_count": 95,
   "metadata": {},
   "outputs": [
    {
     "name": "stdout",
     "output_type": "stream",
     "text": [
      "Hello, World!\n",
      "10\n"
     ]
    }
   ],
   "source": [
    "#134\n",
    "userInput = input()\n",
    "char = set(userInput)\n",
    "print(char.__len__())"
   ]
  },
  {
   "cell_type": "code",
   "execution_count": 103,
   "metadata": {},
   "outputs": [
    {
     "name": "stdout",
     "output_type": "stream",
     "text": [
      "eviii\n",
      "li\n",
      "False\n"
     ]
    }
   ],
   "source": [
    "#135\n",
    "word1 = input()\n",
    "word2 = input()\n",
    "\n",
    "list1 = list(word1)\n",
    "list2 = list(word2)\n",
    "start = 0\n",
    "last = len(list1)-1\n",
    "flag = True\n",
    "\n",
    "while start <= last:\n",
    "    if len(list1) != len(list2):\n",
    "        flag = False\n",
    "        break;\n",
    "    else:\n",
    "        if list1[start] == list2[last]:\n",
    "           # print(start,\" : \",last)\n",
    "            start += 1\n",
    "            last = last-1\n",
    "        else:\n",
    "            flag = False\n",
    "            break;\n",
    "\n",
    "if flag == True:\n",
    "    print(True)\n",
    "else:\n",
    "    print(False)"
   ]
  },
  {
   "cell_type": "code",
   "execution_count": 106,
   "metadata": {},
   "outputs": [
    {
     "data": {
      "text/plain": [
       "['__add__',\n",
       " '__class__',\n",
       " '__contains__',\n",
       " '__delattr__',\n",
       " '__dir__',\n",
       " '__doc__',\n",
       " '__eq__',\n",
       " '__format__',\n",
       " '__ge__',\n",
       " '__getattribute__',\n",
       " '__getitem__',\n",
       " '__getnewargs__',\n",
       " '__gt__',\n",
       " '__hash__',\n",
       " '__init__',\n",
       " '__init_subclass__',\n",
       " '__iter__',\n",
       " '__le__',\n",
       " '__len__',\n",
       " '__lt__',\n",
       " '__mod__',\n",
       " '__mul__',\n",
       " '__ne__',\n",
       " '__new__',\n",
       " '__reduce__',\n",
       " '__reduce_ex__',\n",
       " '__repr__',\n",
       " '__rmod__',\n",
       " '__rmul__',\n",
       " '__setattr__',\n",
       " '__sizeof__',\n",
       " '__str__',\n",
       " '__subclasshook__',\n",
       " 'capitalize',\n",
       " 'casefold',\n",
       " 'center',\n",
       " 'count',\n",
       " 'encode',\n",
       " 'endswith',\n",
       " 'expandtabs',\n",
       " 'find',\n",
       " 'format',\n",
       " 'format_map',\n",
       " 'index',\n",
       " 'isalnum',\n",
       " 'isalpha',\n",
       " 'isdecimal',\n",
       " 'isdigit',\n",
       " 'isidentifier',\n",
       " 'islower',\n",
       " 'isnumeric',\n",
       " 'isprintable',\n",
       " 'isspace',\n",
       " 'istitle',\n",
       " 'isupper',\n",
       " 'join',\n",
       " 'ljust',\n",
       " 'lower',\n",
       " 'lstrip',\n",
       " 'maketrans',\n",
       " 'partition',\n",
       " 'replace',\n",
       " 'rfind',\n",
       " 'rindex',\n",
       " 'rjust',\n",
       " 'rpartition',\n",
       " 'rsplit',\n",
       " 'rstrip',\n",
       " 'split',\n",
       " 'splitlines',\n",
       " 'startswith',\n",
       " 'strip',\n",
       " 'swapcase',\n",
       " 'title',\n",
       " 'translate',\n",
       " 'upper',\n",
       " 'zfill']"
      ]
     },
     "execution_count": 106,
     "metadata": {},
     "output_type": "execute_result"
    }
   ],
   "source": [
    "str."
   ]
  },
  {
   "cell_type": "code",
   "execution_count": null,
   "metadata": {},
   "outputs": [],
   "source": []
  }
 ],
 "metadata": {
  "kernelspec": {
   "display_name": "Python 3",
   "language": "python",
   "name": "python3"
  },
  "language_info": {
   "codemirror_mode": {
    "name": "ipython",
    "version": 3
   },
   "file_extension": ".py",
   "mimetype": "text/x-python",
   "name": "python",
   "nbconvert_exporter": "python",
   "pygments_lexer": "ipython3",
   "version": "3.6.5"
  }
 },
 "nbformat": 4,
 "nbformat_minor": 2
}
