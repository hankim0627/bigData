{
 "cells": [
  {
   "cell_type": "code",
   "execution_count": 1,
   "metadata": {},
   "outputs": [
    {
     "name": "stdout",
     "output_type": "stream",
     "text": [
      "1\n",
      "2\n",
      "3\n",
      "0\n",
      "2.0\n"
     ]
    }
   ],
   "source": [
    "#61 Average\n",
    "userInput = int(input())\n",
    "tempSum = 0\n",
    "cnt = 0\n",
    "while True:\n",
    "    if userInput is 0:\n",
    "        if cnt is 0:\n",
    "            print(\"first input is not 0\")\n",
    "        break;\n",
    "    else:\n",
    "        tempSum += userInput\n",
    "        cnt += 1\n",
    "        userInput = int(input())\n",
    "\n",
    "if cnt is not 0:\n",
    "    print(tempSum/cnt)"
   ]
  },
  {
   "cell_type": "code",
   "execution_count": 25,
   "metadata": {},
   "outputs": [
    {
     "name": "stdout",
     "output_type": "stream",
     "text": [
      "10 C\t 50.0 F\n",
      "20 C\t 68.0 F\n",
      "30 C\t 86.0 F\n",
      "40 C\t 104.0 F\n",
      "50 C\t 122.0 F\n",
      "60 C\t 140.0 F\n",
      "70 C\t 158.0 F\n",
      "80 C\t 176.0 F\n",
      "90 C\t 194.0 F\n",
      "100 C\t 212.0 F\n"
     ]
    }
   ],
   "source": [
    "#63\n",
    "\n",
    "def toF(cValue):\n",
    "    return (cValue*9/5)+32\n",
    "def toC(fValue):\n",
    "    return 5/9*(fValue-32)\n",
    "\n",
    "cList = list()\n",
    "fList = list()\n",
    "for i in range(10,101,10):\n",
    "    cList.append(i)\n",
    "for i in range(10,101,10):\n",
    "    fList.append(toF(i))\n",
    "\n",
    "for j in range(10):\n",
    "    print(cList[j],'C\\t',fList[j],'F')"
   ]
  },
  {
   "cell_type": "code",
   "execution_count": 27,
   "metadata": {},
   "outputs": [
    {
     "name": "stdout",
     "output_type": "stream",
     "text": [
      "A\n",
      "C+\n",
      "B\n",
      " \n",
      "3.1\n"
     ]
    }
   ],
   "source": [
    "#66\n",
    "\n",
    "def gradeToNum(value):\n",
    "    if value is 'A+' or value is 'A':\n",
    "        return 4.0;\n",
    "    elif value == 'A-':\n",
    "        return 3.7;\n",
    "    elif value == 'B+':\n",
    "        return 3.3;\n",
    "    elif value == 'B':\n",
    "        return 3.0;\n",
    "    elif value == 'B-':\n",
    "        return 2.7;\n",
    "    elif value == 'C+':\n",
    "        return 2.3;\n",
    "    elif value == 'C':\n",
    "        return 2.0;\n",
    "    elif value == 'C-':\n",
    "        return 1.7;\n",
    "    elif value == 'D+':\n",
    "        return 1.3;\n",
    "    elif value == 'D':\n",
    "        return 1.0;\n",
    "    else:\n",
    "        return 0;\n",
    "    \n",
    "grade = input()\n",
    "cnt = 0\n",
    "gradeSum = 0\n",
    "while True:\n",
    "    if grade is '' or grade is ' ':\n",
    "        break;\n",
    "    else:\n",
    "        gradeSum += gradeToNum(grade)\n",
    "        #print(gradeToNum(grade))\n",
    "        cnt += 1\n",
    "        grade = input()\n",
    "\n",
    "if cnt is not 0:\n",
    "    print(gradeSum/cnt)"
   ]
  },
  {
   "cell_type": "code",
   "execution_count": 3,
   "metadata": {},
   "outputs": [
    {
     "name": "stdout",
     "output_type": "stream",
     "text": [
      "1\n",
      "65\n",
      "20\n",
      "\n",
      "41\n"
     ]
    }
   ],
   "source": [
    "#67\n",
    "def calCost(age):\n",
    "    if age<=2:\n",
    "        return 0;\n",
    "    elif 3<=age<=12:\n",
    "        return 14;\n",
    "    elif age>=65:\n",
    "        return 18;\n",
    "    else:\n",
    "        return 23;\n",
    "\n",
    "group = list()\n",
    "i = input()\n",
    "iSum = 0\n",
    "while True:\n",
    "    if i is '' or i is ' ':\n",
    "        break;\n",
    "    else:\n",
    "        iSum += calCost(int(i))\n",
    "        i = input()\n",
    "print(iSum)"
   ]
  },
  {
   "cell_type": "code",
   "execution_count": 5,
   "metadata": {},
   "outputs": [
    {
     "name": "stdout",
     "output_type": "stream",
     "text": [
      "hannah\n",
      "True\n"
     ]
    }
   ],
   "source": [
    "userInput = input()\n",
    "start = 0\n",
    "last = len(userInput)-1\n",
    "flag = True\n",
    "\n",
    "while start < last:\n",
    "    if userInput[start] == userInput[last]:\n",
    "        start+=1\n",
    "        last=last-1\n",
    "    else:\n",
    "        flag = False\n",
    "\n",
    "if flag == True:\n",
    "    print(True)\n",
    "else:\n",
    "    print(False)"
   ]
  },
  {
   "cell_type": "code",
   "execution_count": 34,
   "metadata": {},
   "outputs": [
    {
     "name": "stdout",
     "output_type": "stream",
     "text": [
      "\t1\t2\t3\t4\t5\t6\t7\t8\t9\t10\t\n",
      "1\t1\t2\t3\t4\t5\t6\t7\t8\t9\t10\t\n",
      "2\t2\t4\t6\t8\t10\t12\t14\t16\t18\t20\t\n",
      "3\t3\t6\t9\t12\t15\t18\t21\t24\t27\t30\t\n",
      "4\t4\t8\t12\t16\t20\t24\t28\t32\t36\t40\t\n",
      "5\t5\t10\t15\t20\t25\t30\t35\t40\t45\t50\t\n",
      "6\t6\t12\t18\t24\t30\t36\t42\t48\t54\t60\t\n",
      "7\t7\t14\t21\t28\t35\t42\t49\t56\t63\t70\t\n",
      "8\t8\t16\t24\t32\t40\t48\t56\t64\t72\t80\t\n",
      "9\t9\t18\t27\t36\t45\t54\t63\t72\t81\t90\t\n",
      "10\t10\t20\t30\t40\t50\t60\t70\t80\t90\t100\t\n"
     ]
    }
   ],
   "source": [
    "label = '\\t'\n",
    "for i in range(1,11):\n",
    "    label+= str(i)+'\\t'\n",
    "print(label)\n",
    "\n",
    "temp = str()\n",
    "cnt = 1\n",
    "for i in range(1,11):\n",
    "    temp = ''\n",
    "    temp += str(cnt)+'\\t'\n",
    "    cnt+=1\n",
    "    for j in range(1,11):\n",
    "        temp += str(i*j)+'\\t'\n",
    "    print(temp)"
   ]
  },
  {
   "cell_type": "code",
   "execution_count": 58,
   "metadata": {},
   "outputs": [
    {
     "name": "stdout",
     "output_type": "stream",
     "text": [
      "n을 입력하세요35\n",
      "m을 입력하세요45\n",
      "5\n"
     ]
    }
   ],
   "source": [
    "#75\n",
    "n = input('n을 입력하세요')\n",
    "m = input('m을 입력하세요')\n",
    "\n",
    "def findGCD(value1, value2):\n",
    "    if value1 < value2:\n",
    "        temp = value1\n",
    "        value1 = value2\n",
    "        value2 = temp       \n",
    "    nmg = value1%value2\n",
    "    \n",
    "    if nmg == 0:\n",
    "        print(value2)\n",
    "        return;\n",
    "    else:\n",
    "        findGCD(value2,nmg)\n",
    "\n",
    "n = int(n)\n",
    "m = int(m)\n",
    "findGCD(n,m)"
   ]
  },
  {
   "cell_type": "code",
   "execution_count": 76,
   "metadata": {},
   "outputs": [
    {
     "name": "stdout",
     "output_type": "stream",
     "text": [
      "101\n",
      "5\n"
     ]
    }
   ],
   "source": [
    "#77\n",
    "bi = input()\n",
    "leng = bi.__len__() -1\n",
    "temp = 1\n",
    "deci = 0\n",
    "\n",
    "while leng>=0:\n",
    "    if int(bi[leng]) == 1:\n",
    "        deci += int(bi[leng])*temp\n",
    "    leng = leng-1\n",
    "    temp = temp*2\n",
    "\n",
    "print(deci)"
   ]
  },
  {
   "cell_type": "code",
   "execution_count": 86,
   "metadata": {},
   "outputs": [
    {
     "name": "stdout",
     "output_type": "stream",
     "text": [
      "4\n",
      "11\n"
     ]
    }
   ],
   "source": [
    "#78\n",
    "deci = int(input())\n",
    "bi = str()\n",
    "\n",
    "if deci == 0:\n",
    "    print('0이 아닌 값 입력해주세요')\n",
    "else:\n",
    "    while True:\n",
    "        if deci == 1:\n",
    "            break;\n",
    "        mok = deci // 2\n",
    "        bi = bi+str(1)\n",
    "        deci = deci // 2\n",
    "\n",
    "print(bi)"
   ]
  },
  {
   "cell_type": "code",
   "execution_count": null,
   "metadata": {},
   "outputs": [],
   "source": []
  }
 ],
 "metadata": {
  "kernelspec": {
   "display_name": "Python 3",
   "language": "python",
   "name": "python3"
  },
  "language_info": {
   "codemirror_mode": {
    "name": "ipython",
    "version": 3
   },
   "file_extension": ".py",
   "mimetype": "text/x-python",
   "name": "python",
   "nbconvert_exporter": "python",
   "pygments_lexer": "ipython3",
   "version": "3.6.5"
  }
 },
 "nbformat": 4,
 "nbformat_minor": 2
}
