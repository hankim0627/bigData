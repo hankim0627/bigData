{
 "cells": [
  {
   "cell_type": "code",
   "execution_count": 35,
   "metadata": {},
   "outputs": [
    {
     "name": "stdout",
     "output_type": "stream",
     "text": [
      "Total\tSimulated\tExpected\n",
      "2 \t 0.72 \t\t 2.78\n",
      "3 \t 1.83 \t\t 5.56\n",
      "4 \t 4.28 \t\t 8.33\n",
      "5 \t 7.09 \t\t 11.11\n",
      "6 \t 11.34 \t\t 13.89\n",
      "7 \t 15.66 \t\t 16.67\n",
      "8 \t 17.23 \t\t 13.89\n",
      "9 \t 14.26 \t\t 11.11\n",
      "10 \t 12.37 \t\t 8.33\n",
      "11 \t 8.56 \t\t 5.56\n",
      "12 \t 6.67 \t\t 2.78\n"
     ]
    }
   ],
   "source": [
    "#129\n",
    "\n",
    "import random;\n",
    "\n",
    "def rollDice():\n",
    "    return random.randint(1,6)+random.randint(1,6)\n",
    "\n",
    "def simulate():\n",
    "    totalSum = 0\n",
    "    total = list(range(13)) # 0부터 12\n",
    "    percent = list(range(13))\n",
    "    theory = [0,0,2.78, 5.56, 8.33, 11.11, 13.89, 16.67, 13.89, 11.11, 8.33, 5.56, 2.78]\n",
    "    for i in range(13):\n",
    "        total[i] = 0 #초기화\n",
    "    for x in range(1000):\n",
    "        temp = rollDice()\n",
    "        total[temp] += temp\n",
    "        totalSum += temp\n",
    "        \n",
    "    print('Total\\tSimulated\\tExpected')    \n",
    "    for i in range(2,13):\n",
    "        percent[i] = round((total[i]/totalSum)*100,2)\n",
    "        print(i,'\\t',percent[i],'\\t\\t',theory[i])\n",
    "\n",
    "simulate()"
   ]
  },
  {
   "cell_type": "code",
   "execution_count": 9,
   "metadata": {},
   "outputs": [
    {
     "name": "stdout",
     "output_type": "stream",
     "text": [
      "hello world!\n",
      "44335555556660966677755531111\n"
     ]
    }
   ],
   "source": [
    "def MsgToNum(msg):\n",
    "    dic = {\".\":1,\",\":11,\"?\":111,\"!\":1111,\":\":11111,\n",
    "          \"A\":2,\"B\":22,\"C\":222,\n",
    "          \"D\":3,\"E\":33,\"F\":333,\n",
    "          \"G\":4,\"H\":44,\"I\":444,\n",
    "          \"J\":5,\"K\":55,\"L\":555,\n",
    "          \"M\":6,\"N\":66,\"O\":666,\n",
    "          \"P\":7,\"Q\":77,\"R\":777,\"S\":7777,\n",
    "          \"T\":8,\"U\":88,\"V\":888,\n",
    "          \"W\":9,\"X\":99,\"Y\":999,\"Z\":9999,\n",
    "          \" \":0}\n",
    "    result = str()\n",
    "    for x in range(len(msg)):\n",
    "        temp = str(dic[msg[x]])\n",
    "        result += temp\n",
    "    print(result)\n",
    "\n",
    "i = input().upper()\n",
    "MsgToNum(i)"
   ]
  },
  {
   "cell_type": "code",
   "execution_count": 1,
   "metadata": {},
   "outputs": [
    {
     "name": "stdout",
     "output_type": "stream",
     "text": [
      "hello, world!\n",
      "......-...-..--- .-----.-..-..-..\n"
     ]
    }
   ],
   "source": [
    "def toMos(msg):\n",
    "    dic = {\"A\":'.-', \"B\":'-...', \"C\":'-.-.', \"D\":'-..', \"E\":'.', \"F\":'..-.',\n",
    "          \"G\":'--.',\"H\":'....',\"I\":'..',\"J\":'.---',\"K\":'-.-','L':'.-..',\n",
    "          \"M\":'--',\"N\":'-.',\"O\":'---',\"P\":'.--.',\"Q\":'--.-',\"R\":'.-.',\n",
    "          \"S\":'...',\"T\":'-',\"U\":'..-',\"V\":'...-',\"W\":'.--',\"X\":'-..-',\n",
    "          \"Y\":'-.--',\"Z\":'--..',\n",
    "          \"0\":'----',\"1\":'.----',\"2\":'..---',\"3\":'...--',\"4\":'....-',\"5\":'.....',\n",
    "          \"6\":'-....',\"7\":'--...',\"8\":'---..',\"9\":'----.',' ':' '}\n",
    "    result = str()\n",
    "    for x in range(len(msg)):\n",
    "        try:\n",
    "            result += dic[msg[x]]\n",
    "        except:\n",
    "            continue;\n",
    "    print(result)\n",
    "    \n",
    "i = input().upper()\n",
    "toMos(i)"
   ]
  },
  {
   "cell_type": "code",
   "execution_count": 31,
   "metadata": {},
   "outputs": [
    {
     "name": "stdout",
     "output_type": "stream",
     "text": [
      "Alberta urban\n"
     ]
    }
   ],
   "source": [
    "#132\n",
    "def convPostal(postal):\n",
    "    dic = {'A':'Newfoundland','B':'Nova scotia','C':'Prince Edward Island',\n",
    "          'E':'New Brunswick','G':'Quebec','H':'Quebec','J':'Quebec',\n",
    "          'K':'Ontario','L':'Ontario','M':'Ontario','N':'Ontario','P':'Ontario',\n",
    "          'R':'Manitoba','S':'Saskatchewan','T':'Alberta','V':'British Columbia',\n",
    "          'X':'Nunavut or Northwest', 'Y':'Yukon'}\n",
    "    no = ['D','F','I','O','Q','U','W','Z']\n",
    "    result = str()\n",
    "    for x in range(2):\n",
    "        if no.__contains__(postal[x]) == True:\n",
    "            print(\"INVALID CHAR\")\n",
    "            return;\n",
    "        else:\n",
    "            if 48<=ord(postal[x])<=57:\n",
    "                if postal[x] == '0':\n",
    "                    result += ' rural'\n",
    "                else:\n",
    "                    result += ' urban'\n",
    "            else:\n",
    "                result += dic[postal[x]]\n",
    "    print(result)\n",
    "convPostal('T2N')"
   ]
  },
  {
   "cell_type": "code",
   "execution_count": 30,
   "metadata": {},
   "outputs": [
    {
     "data": {
      "text/plain": [
       "49"
      ]
     },
     "execution_count": 30,
     "metadata": {},
     "output_type": "execute_result"
    }
   ],
   "source": []
  }
 ],
 "metadata": {
  "kernelspec": {
   "display_name": "Python 3",
   "language": "python",
   "name": "python3"
  },
  "language_info": {
   "codemirror_mode": {
    "name": "ipython",
    "version": 3
   },
   "file_extension": ".py",
   "mimetype": "text/x-python",
   "name": "python",
   "nbconvert_exporter": "python",
   "pygments_lexer": "ipython3",
   "version": "3.6.5"
  }
 },
 "nbformat": 4,
 "nbformat_minor": 2
}
